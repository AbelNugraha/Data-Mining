{
  "nbformat": 4,
  "nbformat_minor": 0,
  "metadata": {
    "colab": {
      "provenance": []
    },
    "kernelspec": {
      "name": "python3",
      "display_name": "Python 3"
    },
    "language_info": {
      "name": "python"
    }
  },
  "cells": [
    {
      "cell_type": "code",
      "execution_count": 1,
      "metadata": {
        "id": "bzj8t22r9ECx"
      },
      "outputs": [],
      "source": [
        "import numpy as np\n",
        "import matplotlib.pyplot as plt\n",
        "import pandas as pd"
      ]
    },
    {
      "cell_type": "code",
      "source": [
        "dataset = pd.read_csv('Salary Data.csv')\n",
        "X = dataset.iloc[:, :-1].values\n",
        "y = dataset.iloc[:, -1].values"
      ],
      "metadata": {
        "id": "KsEYKWKj9gsd"
      },
      "execution_count": 2,
      "outputs": []
    },
    {
      "cell_type": "code",
      "source": [
        "from sklearn.model_selection import train_test_split\n",
        "X_train, X_test, y_train, y_test = train_test_split(X, y, test_size = 0.2, random_state = 0)"
      ],
      "metadata": {
        "id": "z1tzfblj9wOW"
      },
      "execution_count": 3,
      "outputs": []
    },
    {
      "cell_type": "code",
      "source": [
        "print(X)"
      ],
      "metadata": {
        "colab": {
          "base_uri": "https://localhost:8080/"
        },
        "id": "YWOYJpJk95EN",
        "outputId": "8b7542aa-3078-42db-bc5c-ef6d0cf28e77"
      },
      "execution_count": 4,
      "outputs": [
        {
          "output_type": "stream",
          "name": "stdout",
          "text": [
            "[[32.0 'Male' \"Bachelor's\" 'Software Engineer' 5.0]\n",
            " [28.0 'Female' \"Master's\" 'Data Analyst' 3.0]\n",
            " [45.0 'Male' 'PhD' 'Senior Manager' 15.0]\n",
            " ...\n",
            " [29.0 'Female' \"Bachelor's\" 'Junior Project Manager' 2.0]\n",
            " [34.0 'Male' \"Bachelor's\" 'Senior Operations Coordinator' 7.0]\n",
            " [44.0 'Female' 'PhD' 'Senior Business Analyst' 15.0]]\n"
          ]
        }
      ]
    },
    {
      "cell_type": "code",
      "source": [
        "print(y)"
      ],
      "metadata": {
        "colab": {
          "base_uri": "https://localhost:8080/"
        },
        "id": "2nVnY8FN-Bz7",
        "outputId": "3f384a00-2f1e-4451-832e-a05ad0938962"
      },
      "execution_count": 5,
      "outputs": [
        {
          "output_type": "stream",
          "name": "stdout",
          "text": [
            "[ 90000.  65000. 150000.  60000. 200000.  55000. 120000.  80000.  45000.\n",
            " 110000.  75000. 140000.  65000. 130000.  40000. 125000.  90000. 115000.\n",
            "  35000. 180000.  80000. 190000.  50000.  60000. 140000.  45000. 110000.\n",
            "  40000. 140000.  90000. 250000.  55000.  75000.  65000. 170000.  45000.\n",
            "  60000. 115000.  40000. 160000.  80000. 190000.  60000.  45000. 130000.\n",
            "  40000.  75000. 180000. 120000.  35000. 130000.  85000.  60000. 200000.\n",
            "  50000.  95000.  65000. 140000.  55000. 105000. 170000.  50000.  80000.\n",
            " 180000.  35000.  90000. 120000.  45000.  90000. 150000.  65000.  70000.\n",
            " 190000.  40000. 120000.  95000. 160000. 100000. 180000.  55000.  70000.\n",
            "  80000.  30000. 250000.  40000.  95000.  45000.  80000. 135000.  55000.\n",
            " 120000.  40000. 105000. 170000.  75000.  65000. 160000.  35000.  90000.\n",
            " 110000.  45000.  95000. 150000.  50000.  80000. 220000.  50000.  60000.\n",
            " 100000.  40000. 110000.  95000. 130000.  90000.  35000.  95000.  65000.\n",
            " 170000.  45000. 120000. 100000. 180000.  50000.  80000. 140000.  40000.\n",
            "  95000. 110000.  50000. 105000. 160000.  45000. 100000. 160000.  35000.\n",
            "  55000. 140000.  50000.  60000. 120000.  40000. 110000.  50000. 135000.\n",
            "  40000.  90000. 150000.  60000.  80000. 175000.  45000. 120000. 140000.\n",
            "  35000.  95000. 110000.  50000. 115000. 185000.  40000.  90000. 175000.\n",
            "  45000.  80000. 120000.  35000. 110000. 150000.  50000. 105000. 180000.\n",
            "  40000.     nan 140000.  45000.  85000. 140000.  50000.  80000. 170000.\n",
            "  40000. 105000. 145000.  40000.  85000. 130000.  95000. 100000. 180000.\n",
            "  35000.  95000. 170000.  45000.  95000. 120000.  40000.  90000. 155000.\n",
            "  55000. 110000. 180000.  45000. 130000.  45000.  90000. 160000.  50000.\n",
            " 120000. 170000.  40000. 110000. 150000.  40000.  85000. 130000. 100000.\n",
            "  95000. 180000.  35000. 100000. 170000.  45000. 100000. 140000.  40000.\n",
            " 105000. 160000.  70000. 120000. 190000.  45000. 120000.  50000.  85000.\n",
            " 140000.  45000. 100000. 140000.  70000. 120000. 160000.  40000. 120000.\n",
            " 150000.  70000.  95000. 180000.  50000.  95000. 170000.  40000. 110000.\n",
            " 150000.  40000.  85000. 130000. 100000.  95000. 180000.    350.     nan\n",
            " 120000. 160000.  50000. 110000.  40000.  95000. 140000.  60000. 110000.\n",
            " 150000.  60000.  90000. 180000.  40000. 120000. 160000.  70000.  95000.\n",
            " 180000.  50000.  95000. 170000.  35000. 100000. 150000.  60000.  85000.\n",
            " 130000.  65000. 110000. 180000.  40000.  90000. 140000.  60000. 130000.\n",
            " 160000.  40000. 100000. 180000.  55000. 120000. 150000.  70000.  95000.\n",
            " 180000.  50000. 120000. 170000.  35000. 100000. 150000.  60000.  85000.\n",
            " 130000.  80000.  95000.  40000. 120000. 160000.  65000. 130000. 180000.\n",
            "  40000. 100000. 150000.  55000. 110000. 180000.  50000. 130000. 160000.\n",
            "  60000.  95000. 170000.  40000.  90000. 150000.  70000.  90000. 170000.\n",
            "  50000. 150000. 160000.  60000.  85000. 180000.  35000. 110000. 160000.\n",
            "  55000. 110000. 180000.  50000. 130000. 160000.  60000.  95000. 170000.\n",
            "  40000.  90000. 150000.  70000.  90000. 170000.  50000. 150000. 160000.\n",
            "  60000.  85000. 170000.  40000.  90000. 150000.]\n"
          ]
        }
      ]
    },
    {
      "cell_type": "code",
      "source": [
        "from sklearn.impute import SimpleImputer\n",
        "imputer = SimpleImputer(missing_values=np.nan, strategy='constant')\n",
        "imputer.fit(X[:, 1:3])\n",
        "X[:, 1:3] = imputer.transform(X[:, 1:3])"
      ],
      "metadata": {
        "id": "Y35TjcsX_HwW"
      },
      "execution_count": 16,
      "outputs": []
    },
    {
      "cell_type": "code",
      "source": [
        "print(X)"
      ],
      "metadata": {
        "colab": {
          "base_uri": "https://localhost:8080/"
        },
        "id": "_chaGhlLBbf7",
        "outputId": "8090e642-ccb8-42f6-c161-3b6a38e0682c"
      },
      "execution_count": 18,
      "outputs": [
        {
          "output_type": "stream",
          "name": "stdout",
          "text": [
            "[[32.0 'Male' \"Bachelor's\" 'Software Engineer' 5.0]\n",
            " [28.0 'Female' \"Master's\" 'Data Analyst' 3.0]\n",
            " [45.0 'Male' 'PhD' 'Senior Manager' 15.0]\n",
            " ...\n",
            " [29.0 'Female' \"Bachelor's\" 'Junior Project Manager' 2.0]\n",
            " [34.0 'Male' \"Bachelor's\" 'Senior Operations Coordinator' 7.0]\n",
            " [44.0 'Female' 'PhD' 'Senior Business Analyst' 15.0]]\n"
          ]
        }
      ]
    },
    {
      "cell_type": "code",
      "source": [
        "from sklearn.preprocessing import LabelEncoder\n",
        "le = LabelEncoder()\n",
        "y = le.fit_transform(y)"
      ],
      "metadata": {
        "id": "U0okUqHvBue6"
      },
      "execution_count": 20,
      "outputs": []
    },
    {
      "cell_type": "code",
      "source": [
        "print(y)"
      ],
      "metadata": {
        "colab": {
          "base_uri": "https://localhost:8080/"
        },
        "id": "8rth3_cBB-zp",
        "outputId": "487a7da7-646b-4a27-abd0-e30f8306568a"
      },
      "execution_count": 21,
      "outputs": [
        {
          "output_type": "stream",
          "name": "stdout",
          "text": [
            "[13  8 25  7 33  6 19 11  4 17 10 23  8 21  3 20 13 18  2 30 11 32  5  7\n",
            " 23  4 17  3 23 13 35  6 10  8 28  4  7 18  3 27 11 32  7  4 21  3 10 30\n",
            " 19  2 21 12  7 33  5 14  8 23  6 16 28  5 11 30  2 13 19  4 13 25  8  9\n",
            " 32  3 19 14 27 15 30  6  9 11  1 35  3 14  4 11 22  6 19  3 16 28 10  8\n",
            " 27  2 13 17  4 14 25  5 11 34  5  7 15  3 17 14 21 13  2 14  8 28  4 19\n",
            " 15 30  5 11 23  3 14 17  5 16 27  4 15 27  2  6 23  5  7 19  3 17  5 22\n",
            "  3 13 25  7 11 29  4 19 23  2 14 17  5 18 31  3 13 29  4 11 19  2 17 25\n",
            "  5 16 30  3 36 23  4 12 23  5 11 28  3 16 24  3 12 21 14 15 30  2 14 28\n",
            "  4 14 19  3 13 26  6 17 30  4 21  4 13 27  5 19 28  3 17 25  3 12 21 15\n",
            " 14 30  2 15 28  4 15 23  3 16 27  9 19 32  4 19  5 12 23  4 15 23  9 19\n",
            " 27  3 19 25  9 14 30  5 14 28  3 17 25  3 12 21 15 14 30  0 36 19 27  5\n",
            " 17  3 14 23  7 17 25  7 13 30  3 19 27  9 14 30  5 14 28  2 15 25  7 12\n",
            " 21  8 17 30  3 13 23  7 21 27  3 15 30  6 19 25  9 14 30  5 19 28  2 15\n",
            " 25  7 12 21 11 14  3 19 27  8 21 30  3 15 25  6 17 30  5 21 27  7 14 28\n",
            "  3 13 25  9 13 28  5 25 27  7 12 30  2 17 27  6 17 30  5 21 27  7 14 28\n",
            "  3 13 25  9 13 28  5 25 27  7 12 28  3 13 25]\n"
          ]
        }
      ]
    },
    {
      "cell_type": "code",
      "source": [
        "from sklearn.model_selection import train_test_split\n",
        "X_train, X_test, y_train, y_test = train_test_split(X, y, test_size = 0.2, random_state = 1)"
      ],
      "metadata": {
        "id": "S7rjDQi0C4HA"
      },
      "execution_count": 22,
      "outputs": []
    },
    {
      "cell_type": "code",
      "source": [
        "print(X_train)"
      ],
      "metadata": {
        "colab": {
          "base_uri": "https://localhost:8080/"
        },
        "id": "WCIKCNpjDEOy",
        "outputId": "2fdc09aa-dc11-4fe7-b613-d29fb2f4aef5"
      },
      "execution_count": 23,
      "outputs": [
        {
          "output_type": "stream",
          "name": "stdout",
          "text": [
            "[[21 'Female' 'PhD' 'Senior Data Engineer' 16.0]\n",
            " [10 'Female' \"Master's\" 'Senior Financial Analyst' 6.0]\n",
            " [1 'Male' \"Bachelor's\" 'Junior Developer' 1.0]\n",
            " ...\n",
            " [22 'Male' 'PhD' 'Research Director' 16.0]\n",
            " [9 'Male' \"Bachelor's\" 'Junior Sales Representative' 3.0]\n",
            " [19 'Male' \"Master's\" 'Project Engineer' 14.0]]\n"
          ]
        }
      ]
    },
    {
      "cell_type": "code",
      "source": [
        "print(X_test)"
      ],
      "metadata": {
        "colab": {
          "base_uri": "https://localhost:8080/"
        },
        "id": "1DLItUJYDI_t",
        "outputId": "e08cf579-f5d8-423e-ff06-914d4c6cb878"
      },
      "execution_count": 25,
      "outputs": [
        {
          "output_type": "stream",
          "name": "stdout",
          "text": [
            "[[8 'Female' \"Bachelor's\" 'Customer Service Representative' 5.0]\n",
            " [7 'Female' \"Bachelor's\" 'Junior HR Coordinator' 2.0]\n",
            " [15 'Female' \"Bachelor's\" 'Senior Project Manager' 9.0]\n",
            " [31 'missing_value' 'missing_value' nan nan]\n",
            " [13 'Male' 'PhD' 'Principal Scientist' 11.0]\n",
            " [11 'Male' \"Bachelor's\" 'Senior Operations Coordinator' 7.0]\n",
            " [23 'Male' 'PhD' 'Senior Researcher' 18.0]\n",
            " [16 'Female' \"Bachelor's\" 'Senior Project Manager' 12.0]\n",
            " [15 'Female' \"Master's\" 'Digital Marketing Manager' 10.0]\n",
            " [6 'Female' \"Bachelor's\" 'Junior Recruiter' 3.0]\n",
            " [10 'Male' \"Bachelor's\" 'Junior Product Manager' 4.0]\n",
            " [6 'Male' \"Bachelor's\" 'Junior Marketing Coordinator' 2.0]\n",
            " [5 'Male' \"Bachelor's\" 'Junior Operations Analyst' 1.5]\n",
            " [10 'Female' \"Bachelor's\" 'Junior Operations Manager' 5.0]\n",
            " [6 'Male' \"Bachelor's\" 'Marketing Analyst' 2.0]\n",
            " [5 'Male' \"Bachelor's\" 'Junior Financial Analyst' 2.0]\n",
            " [13 'Male' \"Bachelor's\" 'Senior Business Development Manager' 8.0]\n",
            " [17 'Female' \"Bachelor's\" 'HR Manager' 12.0]\n",
            " [25 'Male' \"Master's\" 'Director of Product Management' 21.0]\n",
            " [6 'Male' \"Bachelor's\" 'Junior Web Designer' 3.0]\n",
            " [19 'Female' \"Master's\" 'Product Manager' 12.0]\n",
            " [24 'Male' \"Master's\" 'Director of Business Development' 19.0]\n",
            " [8 'Male' \"Bachelor's\" 'Junior HR Generalist' 4.0]\n",
            " [17 'Female' \"Bachelor's\" 'Senior Marketing Manager' 12.0]\n",
            " [21 'Female' 'PhD' 'Senior Business Analyst' 15.0]\n",
            " [29 'Male' \"Master's\" 'Director' 20.0]\n",
            " [13 'Male' \"Bachelor's\" 'IT Support Specialist' 7.0]\n",
            " [25 'Female' \"Master's\" 'Director of HR' 20.0]\n",
            " [6 'Female' \"Bachelor's\" 'Junior Project Manager' 2.0]\n",
            " [21 'Female' 'PhD' 'Senior Business Analyst' 15.0]\n",
            " [20 'Male' \"Master's\" 'Director of Marketing' 18.0]\n",
            " [24 'Female' \"Master's\" 'Director of Marketing' 20.0]\n",
            " [20 'Male' \"Bachelor's\" 'Senior Project Manager' 16.0]\n",
            " [24 'Male' \"Master's\" 'Director of Operations' 20.0]\n",
            " [11 'Female' \"Bachelor's\" 'Junior Marketing Analyst' 6.0]\n",
            " [13 'Female' \"Bachelor's\" 'Senior Marketing Manager' 8.0]\n",
            " [19 'Female' \"Bachelor's\" 'Sales Manager' 17.0]\n",
            " [21 'Male' \"Bachelor's\" 'Senior Software Engineer' 13.0]\n",
            " [16 'Male' 'PhD' 'Senior Engineer' 12.0]\n",
            " [7 'Female' \"Bachelor's\" 'Junior Operations Coordinator' 2.0]\n",
            " [12 'Female' \"Bachelor's\" 'Senior Marketing Analyst' 8.0]\n",
            " [8 'Female' \"Bachelor's\" 'Junior Financial Analyst' 3.0]\n",
            " [17 'Female' \"Master's\" 'Senior Training Specialist' 12.0]\n",
            " [11 'Male' \"Bachelor's\" 'Senior Operations Coordinator' 7.0]\n",
            " [13 'Male' \"Bachelor's\" 'Junior Data Analyst' 7.0]\n",
            " [25 'Female' \"Bachelor's\" 'HR Manager' 18.0]\n",
            " [18 'Female' \"Master's\" 'Data Analyst' 13.0]\n",
            " [2 'Female' \"Bachelor's\" 'Data Entry Clerk' 0.0]\n",
            " [21 'Female' 'PhD' 'Senior Scientist' 16.0]\n",
            " [26 'Female' \"Master's\" 'Senior HR Manager' 19.0]\n",
            " [13 'Male' \"Bachelor's\" 'Senior Operations Manager' 9.0]\n",
            " [19 'Female' 'PhD' 'Senior Marketing Manager' 13.0]\n",
            " [25 'Male' \"Master's\" 'Operations Director' 18.0]\n",
            " [8 'Female' \"Bachelor's\" 'Junior Social Media Specialist' 3.0]\n",
            " [7 'Female' \"Bachelor's\" 'Digital Content Producer' 3.0]\n",
            " [6 'Female' \"Bachelor's\" 'Junior Sales Representative' 2.0]\n",
            " [16 'Female' \"Bachelor's\" 'Senior Sales Representative' 12.0]\n",
            " [11 'Female' \"Bachelor's\" 'Junior Financial Analyst' 5.0]\n",
            " [23 'Male' \"Master's\" 'Director of Operations' 20.0]\n",
            " [22 'Male' \"Master's\" 'Director of Engineering' 19.0]\n",
            " [15 'Female' \"Bachelor's\" 'Senior Business Analyst' 10.0]\n",
            " [15 'Female' \"Master's\" 'Public Relations Manager' 10.0]\n",
            " [3 'Male' \"Bachelor's\" 'Junior Accountant' 2.0]\n",
            " [13 'Male' \"Bachelor's\" 'Senior Business Analyst' 8.0]\n",
            " [17 'Female' \"Master's\" 'Project Manager' 14.0]\n",
            " [12 'Female' \"Bachelor's\" 'Senior Financial Manager' 8.0]\n",
            " [6 'Male' \"Bachelor's\" 'Junior Business Operations Analyst' 1.5]\n",
            " [8 'Female' \"Bachelor's\" 'Marketing Coordinator' 6.0]\n",
            " [16 'Female' \"Bachelor's\" 'Training Specialist' 12.0]\n",
            " [7 'Female' \"Bachelor's\" 'Junior Marketing Coordinator' 2.0]\n",
            " [25 'Female' \"Master's\" 'Human Resources Director' 20.0]\n",
            " [12 'Male' \"Bachelor's\" 'Senior Operations Analyst' 7.0]\n",
            " [10 'Male' \"Bachelor's\" 'Junior Operations Manager' 4.0]\n",
            " [17 'Male' \"Bachelor's\" 'Senior Financial Analyst' 12.0]\n",
            " [2 'Male' \"Bachelor's\" 'Sales Representative' 0.0]]\n"
          ]
        }
      ]
    },
    {
      "cell_type": "code",
      "source": [
        "print(y_train)"
      ],
      "metadata": {
        "colab": {
          "base_uri": "https://localhost:8080/"
        },
        "id": "cP56CdnPDRFp",
        "outputId": "cdabdb6a-6a4d-445b-fdcb-fe47a952b283"
      },
      "execution_count": 26,
      "outputs": [
        {
          "output_type": "stream",
          "name": "stdout",
          "text": [
            "[27 14  3 30  3 19 28 28 26 30 21 19 16 16 27  3 17  5 17 16  8  8  4  3\n",
            " 14 25 28 13 14  6 36 15  4  4  5  5 27 25 15 19  9 22 15 27 23 12 13  3\n",
            "  7 19 11 13 14 12 21 17  3 13 23 13 34 11 21  8  3 13 21  7 25  2  4 14\n",
            "  3 30 28  7  4  4 28 17  5  6  6 14 30  5 31 28 21 17 19 15 15 30 16  6\n",
            " 27 14  4  9 17 25  6 15 23  6 14 15 10 15 19  2 14  8 19  4  2 30 18  5\n",
            " 10 19 27 12 12 28 25 19  3  5 23 30 13  5 25 11 32 14 19 25 33 17 30  5\n",
            " 23  9 15 12 27  2  2  8  3 30  5  8 25 25 19  5 30  8  5  7  3 13  3 16\n",
            "  2  2 30  9 32 25 14  4  6 30 13  7  3  5 23 19  6 24  5 28 27  7 28 10\n",
            " 14  3 11 21 23 10 17 27 17 27 23  7  7  3 11  5 14 30 15  5 12 29 30 25\n",
            "  7 27  3  0  3 19 13 14 19 25  9 11 19 22 25 14 21 23 17 35 17 30 14  3\n",
            "  3 12 11  2 28 27  4 13  2 20 27  3 19 17 27  4  5  7  7  2 28 35 30 14\n",
            " 27 14 17  3 11  8  7  5 14 19 11 17  4 17  3 15 13 21  5 25  7 12 27 11\n",
            " 14 23  9 16  3 28 27  4 21 32  4 18]\n"
          ]
        }
      ]
    },
    {
      "cell_type": "code",
      "source": [
        "print(y_test)"
      ],
      "metadata": {
        "colab": {
          "base_uri": "https://localhost:8080/"
        },
        "id": "Jpnk-eJBDXj5",
        "outputId": "dcf7f3a1-0dd5-4d34-9d6e-289c0ce62caf"
      },
      "execution_count": 27,
      "outputs": [
        {
          "output_type": "stream",
          "name": "stdout",
          "text": [
            "[ 4  3 19 36 19 13 25 21 13  4  7  3  2  9  6  3 17 11 29  4 19 28  5 21\n",
            " 25 33  7 30  3 25 28 30 23 28  9 14 15 21 18  3 12  5 15 13  7 23 11  2\n",
            " 23 25 15 23 32  4  5  3 13  9 28 30 17 13  3 14 21 13  2  6  8  3 30 12\n",
            "  7 21  1]\n"
          ]
        }
      ]
    },
    {
      "cell_type": "code",
      "source": [
        "from sklearn.preprocessing import StandardScaler\n",
        "sc = StandardScaler()\n",
        "X_train[:, 4:] = sc.fit_transform(X_train[:, 4:])\n",
        "X_test[:, 4:] = sc.transform(X_test[:, 4:])"
      ],
      "metadata": {
        "id": "MqMfxMUyDan8"
      },
      "execution_count": 30,
      "outputs": []
    },
    {
      "cell_type": "code",
      "source": [
        "print(X_train)"
      ],
      "metadata": {
        "colab": {
          "base_uri": "https://localhost:8080/"
        },
        "id": "UhiFxJfKD3CO",
        "outputId": "e45ad5bd-3567-47dd-b71e-fadc3409a9b1"
      },
      "execution_count": 31,
      "outputs": [
        {
          "output_type": "stream",
          "name": "stdout",
          "text": [
            "[[21 'Female' 'PhD' 'Senior Data Engineer' 0.8909891645842842]\n",
            " [10 'Female' \"Master's\" 'Senior Financial Analyst' -0.6213909671823975]\n",
            " [1 'Male' \"Bachelor's\" 'Junior Developer' -1.3775810330657383]\n",
            " ...\n",
            " [22 'Male' 'PhD' 'Research Director' 0.8909891645842842]\n",
            " [9 'Male' \"Bachelor's\" 'Junior Sales Representative' -1.075105006712402]\n",
            " [19 'Male' \"Master's\" 'Project Engineer' 0.5885131382309479]]\n"
          ]
        }
      ]
    },
    {
      "cell_type": "code",
      "source": [
        "print(X_test)"
      ],
      "metadata": {
        "colab": {
          "base_uri": "https://localhost:8080/"
        },
        "id": "oAqz3gh9D8_Y",
        "outputId": "7da05b2e-155d-49c2-efae-f1fce00e07f0"
      },
      "execution_count": 32,
      "outputs": [
        {
          "output_type": "stream",
          "name": "stdout",
          "text": [
            "[[8 'Female' \"Bachelor's\" 'Customer Service Representative' 5.0]\n",
            " [7 'Female' \"Bachelor's\" 'Junior HR Coordinator' 2.0]\n",
            " [15 'Female' \"Bachelor's\" 'Senior Project Manager' 9.0]\n",
            " [31 'missing_value' 'missing_value' nan nan]\n",
            " [13 'Male' 'PhD' 'Principal Scientist' 11.0]\n",
            " [11 'Male' \"Bachelor's\" 'Senior Operations Coordinator' 7.0]\n",
            " [23 'Male' 'PhD' 'Senior Researcher' 18.0]\n",
            " [16 'Female' \"Bachelor's\" 'Senior Project Manager' 12.0]\n",
            " [15 'Female' \"Master's\" 'Digital Marketing Manager' 10.0]\n",
            " [6 'Female' \"Bachelor's\" 'Junior Recruiter' 3.0]\n",
            " [10 'Male' \"Bachelor's\" 'Junior Product Manager' 4.0]\n",
            " [6 'Male' \"Bachelor's\" 'Junior Marketing Coordinator' 2.0]\n",
            " [5 'Male' \"Bachelor's\" 'Junior Operations Analyst' 1.5]\n",
            " [10 'Female' \"Bachelor's\" 'Junior Operations Manager' 5.0]\n",
            " [6 'Male' \"Bachelor's\" 'Marketing Analyst' 2.0]\n",
            " [5 'Male' \"Bachelor's\" 'Junior Financial Analyst' 2.0]\n",
            " [13 'Male' \"Bachelor's\" 'Senior Business Development Manager' 8.0]\n",
            " [17 'Female' \"Bachelor's\" 'HR Manager' 12.0]\n",
            " [25 'Male' \"Master's\" 'Director of Product Management' 21.0]\n",
            " [6 'Male' \"Bachelor's\" 'Junior Web Designer' 3.0]\n",
            " [19 'Female' \"Master's\" 'Product Manager' 12.0]\n",
            " [24 'Male' \"Master's\" 'Director of Business Development' 19.0]\n",
            " [8 'Male' \"Bachelor's\" 'Junior HR Generalist' 4.0]\n",
            " [17 'Female' \"Bachelor's\" 'Senior Marketing Manager' 12.0]\n",
            " [21 'Female' 'PhD' 'Senior Business Analyst' 15.0]\n",
            " [29 'Male' \"Master's\" 'Director' 20.0]\n",
            " [13 'Male' \"Bachelor's\" 'IT Support Specialist' 7.0]\n",
            " [25 'Female' \"Master's\" 'Director of HR' 20.0]\n",
            " [6 'Female' \"Bachelor's\" 'Junior Project Manager' 2.0]\n",
            " [21 'Female' 'PhD' 'Senior Business Analyst' 15.0]\n",
            " [20 'Male' \"Master's\" 'Director of Marketing' 18.0]\n",
            " [24 'Female' \"Master's\" 'Director of Marketing' 20.0]\n",
            " [20 'Male' \"Bachelor's\" 'Senior Project Manager' 16.0]\n",
            " [24 'Male' \"Master's\" 'Director of Operations' 20.0]\n",
            " [11 'Female' \"Bachelor's\" 'Junior Marketing Analyst' 6.0]\n",
            " [13 'Female' \"Bachelor's\" 'Senior Marketing Manager' 8.0]\n",
            " [19 'Female' \"Bachelor's\" 'Sales Manager' 17.0]\n",
            " [21 'Male' \"Bachelor's\" 'Senior Software Engineer' 13.0]\n",
            " [16 'Male' 'PhD' 'Senior Engineer' 12.0]\n",
            " [7 'Female' \"Bachelor's\" 'Junior Operations Coordinator' 2.0]\n",
            " [12 'Female' \"Bachelor's\" 'Senior Marketing Analyst' 8.0]\n",
            " [8 'Female' \"Bachelor's\" 'Junior Financial Analyst' 3.0]\n",
            " [17 'Female' \"Master's\" 'Senior Training Specialist' 12.0]\n",
            " [11 'Male' \"Bachelor's\" 'Senior Operations Coordinator' 7.0]\n",
            " [13 'Male' \"Bachelor's\" 'Junior Data Analyst' 7.0]\n",
            " [25 'Female' \"Bachelor's\" 'HR Manager' 18.0]\n",
            " [18 'Female' \"Master's\" 'Data Analyst' 13.0]\n",
            " [2 'Female' \"Bachelor's\" 'Data Entry Clerk' -1.054526217369714e-16]\n",
            " [21 'Female' 'PhD' 'Senior Scientist' 16.0]\n",
            " [26 'Female' \"Master's\" 'Senior HR Manager' 19.0]\n",
            " [13 'Male' \"Bachelor's\" 'Senior Operations Manager' 9.0]\n",
            " [19 'Female' 'PhD' 'Senior Marketing Manager' 13.0]\n",
            " [25 'Male' \"Master's\" 'Operations Director' 18.0]\n",
            " [8 'Female' \"Bachelor's\" 'Junior Social Media Specialist' 3.0]\n",
            " [7 'Female' \"Bachelor's\" 'Digital Content Producer' 3.0]\n",
            " [6 'Female' \"Bachelor's\" 'Junior Sales Representative' 2.0]\n",
            " [16 'Female' \"Bachelor's\" 'Senior Sales Representative' 12.0]\n",
            " [11 'Female' \"Bachelor's\" 'Junior Financial Analyst' 5.0]\n",
            " [23 'Male' \"Master's\" 'Director of Operations' 20.0]\n",
            " [22 'Male' \"Master's\" 'Director of Engineering' 19.0]\n",
            " [15 'Female' \"Bachelor's\" 'Senior Business Analyst' 10.0]\n",
            " [15 'Female' \"Master's\" 'Public Relations Manager' 10.0]\n",
            " [3 'Male' \"Bachelor's\" 'Junior Accountant' 2.0]\n",
            " [13 'Male' \"Bachelor's\" 'Senior Business Analyst' 8.0]\n",
            " [17 'Female' \"Master's\" 'Project Manager' 14.0]\n",
            " [12 'Female' \"Bachelor's\" 'Senior Financial Manager' 8.0]\n",
            " [6 'Male' \"Bachelor's\" 'Junior Business Operations Analyst' 1.5]\n",
            " [8 'Female' \"Bachelor's\" 'Marketing Coordinator' 6.0]\n",
            " [16 'Female' \"Bachelor's\" 'Training Specialist' 12.0]\n",
            " [7 'Female' \"Bachelor's\" 'Junior Marketing Coordinator' 2.0]\n",
            " [25 'Female' \"Master's\" 'Human Resources Director' 20.0]\n",
            " [12 'Male' \"Bachelor's\" 'Senior Operations Analyst' 7.0]\n",
            " [10 'Male' \"Bachelor's\" 'Junior Operations Manager' 4.0]\n",
            " [17 'Male' \"Bachelor's\" 'Senior Financial Analyst' 12.0]\n",
            " [2 'Male' \"Bachelor's\" 'Sales Representative' -1.054526217369714e-16]]\n"
          ]
        }
      ]
    }
  ]
}